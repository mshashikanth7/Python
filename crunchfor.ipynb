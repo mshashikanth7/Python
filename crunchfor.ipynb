{
 "cells": [
  {
   "cell_type": "code",
   "execution_count": 2,
   "metadata": {},
   "outputs": [
    {
     "name": "stdout",
     "output_type": "stream",
     "text": [
      "['apple', 'banana', 'cherry', 'apple', 'cherry']\n"
     ]
    }
   ],
   "source": [
    "thislist = [\"apple\", \"banana\", \"cherry\", \"apple\", \"cherry\"]\n",
    "\n",
    "print(thislist)"
   ]
  },
  {
   "attachments": {},
   "cell_type": "markdown",
   "metadata": {},
   "source": [
    "# the above code represents and creation and printing of the list"
   ]
  },
  {
   "attachments": {},
   "cell_type": "markdown",
   "metadata": {},
   "source": [
    "#the lists can contain multiple data types together"
   ]
  },
  {
   "cell_type": "code",
   "execution_count": null,
   "metadata": {},
   "outputs": [],
   "source": [
    "list1 = [\"apple\", \"banana\", \"cherry\"]\n",
    "list2 = [1, 5, 7, 9, 3]\n",
    "list3 = [True, False, False]\n",
    "list1 = [\"abc\", 34, True, 40, \"male\"]"
   ]
  },
  {
   "attachments": {},
   "cell_type": "markdown",
   "metadata": {},
   "source": [
    "#From Python's perspective, lists are defined as objects with the data type 'list':"
   ]
  },
  {
   "cell_type": "code",
   "execution_count": 3,
   "metadata": {},
   "outputs": [
    {
     "name": "stdout",
     "output_type": "stream",
     "text": [
      "<class 'list'>\n"
     ]
    }
   ],
   "source": [
    "mylist = [\"banana\", \"cherry\", \"grapes\"]\n",
    "print(type(mylist))"
   ]
  },
  {
   "attachments": {},
   "cell_type": "markdown",
   "metadata": {},
   "source": [
    "#Acessing items in list"
   ]
  },
  {
   "cell_type": "code",
   "execution_count": 6,
   "metadata": {},
   "outputs": [
    {
     "name": "stdout",
     "output_type": "stream",
     "text": [
      "c\n"
     ]
    }
   ],
   "source": [
    "L = [\"a\", \"c\", \"d\"]\n",
    "print(L[1])"
   ]
  },
  {
   "attachments": {},
   "cell_type": "markdown",
   "metadata": {},
   "source": [
    "#trick to print the last item in the list just set the index to -1"
   ]
  },
  {
   "cell_type": "code",
   "execution_count": 21,
   "metadata": {},
   "outputs": [
    {
     "name": "stdout",
     "output_type": "stream",
     "text": [
      "apple   banana   carrot   grape   orange   \n",
      "['1', '2', '3', '4', '5']\n",
      "['banana', 'carrot']\n",
      "to print the elements util the index excluding index\n",
      "['apple', 'banana', 'carrot', 'grape']\n",
      "to print the elements from start the index to 4\n",
      "['carrot', 'grape', 'orange']\n"
     ]
    }
   ],
   "source": [
    "thel = [\"apple\", \"banana\", \"carrot\", \"grape\", \"orange\"]\n",
    "index = [\"1\", \"2\", \"3\", \"4\", \"5\"]\n",
    "\n",
    "#now to print  from (inclusive) the range of item we can use the : between two indexe as shown below1\n",
    "for i in thel:\n",
    "    print(i,end= \"   \")\n",
    "print()\n",
    "print(index)\n",
    "print(thel[1:3])#prints til 3(not inculuding 3)\n",
    "print(\"to print the elements util the index excluding index\")\n",
    "print(thel[:4])#prints till 4(not including 4 )\n",
    "print(\"to print the elements from start the index to 4\") \n",
    "print(thel[2:])#starts printing from 2(not including 2)"
   ]
  },
  {
   "attachments": {},
   "cell_type": "markdown",
   "metadata": {},
   "source": [
    "#note the the last element is excluseive type"
   ]
  },
  {
   "attachments": {},
   "cell_type": "markdown",
   "metadata": {},
   "source": [
    "negative indexes used to print the elements in reverse order an it starts form -1 "
   ]
  },
  {
   "attachments": {},
   "cell_type": "markdown",
   "metadata": {},
   "source": [
    "Checking for the existance of an item"
   ]
  },
  {
   "cell_type": "code",
   "execution_count": 27,
   "metadata": {},
   "outputs": [
    {
     "name": "stdout",
     "output_type": "stream",
     "text": [
      "its there\n"
     ]
    }
   ],
   "source": [
    "thl =[ \"3\", \"5\",\"6\", \" 7\"]\n",
    "if \"3\" in thl:\n",
    "    print(\"its there\")"
   ]
  },
  {
   "attachments": {},
   "cell_type": "markdown",
   "metadata": {},
   "source": [
    "NOW MANUPALATING THE ITEMS IN THE STRING \n"
   ]
  },
  {
   "cell_type": "code",
   "execution_count": 28,
   "metadata": {},
   "outputs": [
    {
     "name": "stdout",
     "output_type": "stream",
     "text": [
      "['appple', 'blackcurrant', 'guava', 'carrot', 'rabbit', 'hobbit']\n"
     ]
    }
   ],
   "source": [
    "#CHANGING THE SINGLE VALUE\n",
    "list = [\"appple\", \"mango\", \"guava\", \"carrot\", \"rabbit\", \"hobbit\" ]\n",
    "list[1] = \"blackcurrant\"\n",
    "print(list)"
   ]
  },
  {
   "cell_type": "code",
   "execution_count": 29,
   "metadata": {},
   "outputs": [
    {
     "name": "stdout",
     "output_type": "stream",
     "text": [
      "['appple', '3', '4', '5', 'rabbit', 'hobbit']\n"
     ]
    }
   ],
   "source": [
    "list = [\"appple\", \"mango\", \"guava\", \"carrot\", \"rabbit\", \"hobbit\" ]\n",
    "list[1:4] = [\"3\", \"4\", \"5\"]\n",
    "print(list)"
   ]
  },
  {
   "attachments": {},
   "cell_type": "markdown",
   "metadata": {},
   "source": [
    "INSERTING AN ITEM"
   ]
  },
  {
   "cell_type": "code",
   "execution_count": 30,
   "metadata": {},
   "outputs": [
    {
     "name": "stdout",
     "output_type": "stream",
     "text": [
      "['appple', 'mango', 'watermelon', 'guava', 'carrot', 'rabbit', 'hobbit']\n"
     ]
    }
   ],
   "source": [
    "#inserting an item\n",
    "list = [\"appple\", \"mango\", \"guava\", \"carrot\", \"rabbit\", \"hobbit\" ]\n",
    "list.insert(2,\"watermelon\")\n",
    "print(list)"
   ]
  },
  {
   "attachments": {},
   "cell_type": "markdown",
   "metadata": {},
   "source": [
    "EXTENDING THE LIST"
   ]
  },
  {
   "cell_type": "code",
   "execution_count": 31,
   "metadata": {},
   "outputs": [
    {
     "name": "stdout",
     "output_type": "stream",
     "text": [
      "['appple', 'mango', 'guava', 'carrot', 'rabbit', 'hobbit', '3', '5', '6', ' 7']\n"
     ]
    }
   ],
   "source": [
    "list = [\"appple\", \"mango\", \"guava\", \"carrot\", \"rabbit\", \"hobbit\" ]\n",
    "thl =[ \"3\", \"5\",\"6\", \" 7\"]\n",
    "list.extend(thl)\n",
    "print(list)"
   ]
  }
 ],
 "metadata": {
  "kernelspec": {
   "display_name": "Python 3",
   "language": "python",
   "name": "python3"
  },
  "language_info": {
   "codemirror_mode": {
    "name": "ipython",
    "version": 3
   },
   "file_extension": ".py",
   "mimetype": "text/x-python",
   "name": "python",
   "nbconvert_exporter": "python",
   "pygments_lexer": "ipython3",
   "version": "3.10.11"
  },
  "orig_nbformat": 4
 },
 "nbformat": 4,
 "nbformat_minor": 2
}
