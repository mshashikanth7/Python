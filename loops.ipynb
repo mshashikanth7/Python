{
 "cells": [
  {
   "cell_type": "code",
   "execution_count": 1,
   "metadata": {},
   "outputs": [
    {
     "name": "stdout",
     "output_type": "stream",
     "text": [
      "meow\n",
      "meow\n",
      "meow\n",
      "meow\n",
      "meow\n"
     ]
    }
   ],
   "source": [
    "#while loops in python\n",
    "# i =  3\n",
    "# while i != 0:\n",
    "#     print(\"meow\")\n",
    "#     i-= 1\n",
    "\n",
    "#for loop in python\n",
    "    #hear range is a function that careats a list of numbers over which the for loop\n",
    "    #iterates\n",
    "\n",
    "    #moreover while loop is used to validat the input\\\n",
    "\n",
    "\"\"\"while True:\n",
    "    i = int(input(\"whats the value of i \"))\n",
    "    if i > 0:\n",
    "        break\n",
    "        \"\"\"\n",
    "#we can do the same in a function\n",
    "def main():\n",
    "    \n",
    "    num = getinput()\n",
    "    meow(num)\n",
    "# main function getting input and passing it meow\n",
    "def meow(i):\n",
    "    for _ in range(i):\n",
    "        print(\"meow\")\n",
    "\n",
    "def getinput():\n",
    "    while True:\n",
    "        x = int(input(\"what's the value of x?\"))\n",
    "        if x > 0:\n",
    "            return x\n",
    "        break\n",
    "    #the above return statement can be written after the break statemnt just make sure that it is in the for loop as\n",
    "    #  while True:\n",
    "     #   x = int(input(\"what's the value of x?\"))\n",
    "     #   if x > 0:\n",
    "     #       return x\n",
    "     #   break\n",
    "\n",
    "main()\n",
    "#gfgfghj"
   ]
  },
  {
   "cell_type": "code",
   "execution_count": 2,
   "metadata": {},
   "outputs": [
    {
     "name": "stdout",
     "output_type": "stream",
     "text": [
      "hello world\n"
     ]
    },
    {
     "ename": "NameError",
     "evalue": "name 'main' is not defined",
     "output_type": "error",
     "traceback": [
      "\u001b[1;31m---------------------------------------------------------------------------\u001b[0m",
      "\u001b[1;31mNameError\u001b[0m                                 Traceback (most recent call last)",
      "Cell \u001b[1;32mIn[2], line 2\u001b[0m\n\u001b[0;32m      1\u001b[0m \u001b[39mprint\u001b[39m(\u001b[39m\"\u001b[39m\u001b[39mhello world\u001b[39m\u001b[39m\"\u001b[39m)\n\u001b[1;32m----> 2\u001b[0m main()\n",
      "\u001b[1;31mNameError\u001b[0m: name 'main' is not defined"
     ]
    }
   ],
   "source": [
    "print(\"hello world\")\n",
    "main()\n"
   ]
  },
  {
   "cell_type": "code",
   "execution_count": null,
   "metadata": {},
   "outputs": [],
   "source": [
    "````6B512"
   ]
  }
 ],
 "metadata": {
  "kernelspec": {
   "display_name": "Python 3",
   "language": "python",
   "name": "python3"
  },
  "language_info": {
   "codemirror_mode": {
    "name": "ipython",
    "version": 3
   },
   "file_extension": ".py",
   "mimetype": "text/x-python",
   "name": "python",
   "nbconvert_exporter": "python",
   "pygments_lexer": "ipython3",
   "version": "3.10.11"
  },
  "orig_nbformat": 4
 },
 "nbformat": 4,
 "nbformat_minor": 2
}
